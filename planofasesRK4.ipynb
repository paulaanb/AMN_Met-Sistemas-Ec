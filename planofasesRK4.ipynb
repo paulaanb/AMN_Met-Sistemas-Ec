import numpy as np
import matplotlib.pyplot as plt

def sistema_ecuaciones(t, y):
    # Define aquí tus ecuaciones diferenciales
    # Por ejemplo, para un sistema de dos ecuaciones:
    dy1_dt = y[1]
    dy2_dt = -y[0] - 0.1 * y[1]

    return np.array([dy1_dt, dy2_dt])

def runge_kutta_4(func, y0, t0, t_final, h):
    # Implementación del método de Runge-Kutta de orden 4
    t_values = [t0]
    y_values = [y0]

    while t_values[-1] < t_final:
        t_n = t_values[-1]
        y_n = y_values[-1]

        k1 = h * func(t_n, y_n)
        k2 = h * func(t_n + h/2, y_n + k1/2)
        k3 = h * func(t_n + h/2, y_n + k2/2)
        k4 = h * func(t_n + h, y_n + k3)

        y_n1 = y_n + (k1 + 2*k2 + 2*k3 + k4)/6
        t_values.append(t_n + h)
        y_values.append(y_n1)

    return np.array(t_values), np.array(y_values)

# Parámetros
t0 = 0
t_final = 10
h = 0.01
y0 = np.array([1.0, 0.0])  # Condiciones iniciales

# Resolución de las ecuaciones con Runge-Kutta
t_values, y_values = runge_kutta_4(sistema_ecuaciones, y0, t0, t_final, h)

# Ploteo del plano de fases
plt.plot(y_values[:, 0], y_values[:, 1])
plt.xlabel('y1')
plt.ylabel('y2')
plt.title('Plano de Fases con Runge-Kutta de Orden 4')
plt.grid(True)
plt.show()
